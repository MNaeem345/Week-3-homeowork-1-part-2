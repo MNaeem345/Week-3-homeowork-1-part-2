{
 "cells": [
  {
   "cell_type": "code",
   "execution_count": 1,
   "id": "da091564",
   "metadata": {},
   "outputs": [],
   "source": [
    "import homework"
   ]
  },
  {
   "cell_type": "code",
   "execution_count": 2,
   "id": "2b24ac98",
   "metadata": {},
   "outputs": [],
   "source": [
    "from homework import footage_house"
   ]
  },
  {
   "cell_type": "code",
   "execution_count": 8,
   "id": "87688c68",
   "metadata": {},
   "outputs": [],
   "source": [
    "from homework import circumference"
   ]
  },
  {
   "cell_type": "code",
   "execution_count": 9,
   "id": "e134da98",
   "metadata": {},
   "outputs": [
    {
     "name": "stdout",
     "output_type": "stream",
     "text": [
      "What would you like to enter? Area or Circumference?circumference\n",
      "What is the radius?3\n",
      "The circumference is 18.84955592153876.\n"
     ]
    }
   ],
   "source": [
    "ask = input('What would you like to enter? Area or Circumference?').lower()\n",
    "if ask == 'area':\n",
    "    length = float(input('What is the length?'))\n",
    "    print(f'The length you entered is {length}ft.')\n",
    "    width = float(input('What is the width?'))\n",
    "    print(f'The width you entered is {width}ft.')\n",
    "    ans = footage_house(length,width)\n",
    "    print(f'The area of your house is {ans}sq ft.')\n",
    "elif ask == 'circumference':\n",
    "    radius = float(input('What is the radius?'))\n",
    "    ans = circumference(radius)\n",
    "    print(f'The circumference is {ans}.')\n",
    "else:\n",
    "    print('Invalid selection.')"
   ]
  }
 ],
 "metadata": {
  "kernelspec": {
   "display_name": "Python 3",
   "language": "python",
   "name": "python3"
  },
  "language_info": {
   "codemirror_mode": {
    "name": "ipython",
    "version": 3
   },
   "file_extension": ".py",
   "mimetype": "text/x-python",
   "name": "python",
   "nbconvert_exporter": "python",
   "pygments_lexer": "ipython3",
   "version": "3.9.7"
  }
 },
 "nbformat": 4,
 "nbformat_minor": 5
}
